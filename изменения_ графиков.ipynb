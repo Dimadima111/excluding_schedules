{
 "cells": [
  {
   "cell_type": "code",
   "execution_count": 4,
   "id": "125da885-38e5-4ffd-ad40-448f9d6af93b",
   "metadata": {},
   "outputs": [],
   "source": [
    "import pandas as pd\n",
    "import numpy as np\n",
    "import re \n"
   ]
  },
  {
   "cell_type": "markdown",
   "id": "33b20aa7-f764-4229-ae14-a81c3f5b10b6",
   "metadata": {},
   "source": [
    "# Функция для загрузки графиков"
   ]
  },
  {
   "cell_type": "code",
   "execution_count": 3,
   "id": "8ad21681-b074-483b-9454-4a2b50ec7823",
   "metadata": {},
   "outputs": [],
   "source": [
    "def holyday(data, day, uuid, day_start, day_end, over_200 = np.nan):\n",
    "    \"\"\"Функция получается на входе предобработанный датасет, список дней, дату начала и окончания  в формате '2025-05-01' \n",
    "       и если нужна отсечка для городов с начеление больше 200к отсечку в формате '18:00'. На выходе получается файл для передачи в ТП  \"\"\"\n",
    "    data['worktime'] = ''\n",
    "    for i in range(len(data)):\n",
    "        if data.loc[i, 'schedule_1_day'] in day:\n",
    "            data.loc[i, 'worktime'] = data.loc[i, 'schedule_1_time']\n",
    "        elif data.loc[i, 'schedule_2_day'] in day:\n",
    "            data.loc[i, 'worktime'] = data.loc[i, 'schedule_2_time']\n",
    "        elif data.loc[i, 'schedule_3_day'] in day:\n",
    "            data.loc[i, 'worktime'] = data.loc[i, 'schedule_3_time']\n",
    "        else:\n",
    "            data.loc[i, 'is_holiday'] = 'True'\n",
    "\n",
    "    data = data.merge(uuid, on='system_name', how = 'left')\n",
    "\n",
    "    data['worktime_begin'] = data['worktime'].str.split('-').str.get(0)\n",
    "    data['worktime_end'] = data['worktime'].str.split('-').str.get(1)\n",
    "    data = data.drop('worktime', axis=1)\n",
    "    data['scheduled_date_begin'] = day_start\n",
    "    data['scheduled_date_end'] = day_end\n",
    "    data['comment'] = 'Праздничный день'\n",
    "    if 'is_holiday' in data.columns:\n",
    "        pass\n",
    "    else:\n",
    "        data['is_holiday'] = '' \n",
    "    try:\n",
    "        data.loc[data['worktime_end'] > over_200, 'worktime_end'] = over_200\n",
    "    except:\n",
    "        pass\n",
    "\n",
    "    \n",
    "    data = data[['system_name', 'Офис uuid', 'scheduled_date_begin', 'scheduled_date_end','is_holiday', 'worktime_begin', 'worktime_end','comment']]\n",
    "    \n",
    "    return data\n"
   ]
  },
  {
   "cell_type": "markdown",
   "id": "3ea5f4f2-8046-4009-8992-8aa7d608acfb",
   "metadata": {},
   "source": [
    "# Датасеты"
   ]
  },
  {
   "cell_type": "markdown",
   "id": "4b95b003-6084-4e70-9828-517370505fe9",
   "metadata": {},
   "source": [
    "___Загружаем датасеты___"
   ]
  },
  {
   "cell_type": "code",
   "execution_count": 16,
   "id": "71fe374b-111a-451b-9d3b-cd629fcaef57",
   "metadata": {},
   "outputs": [],
   "source": [
    "data = pd.read_excel('Downloads/office-23-04-2025--12_43.xls')"
   ]
  },
  {
   "cell_type": "code",
   "execution_count": 41,
   "id": "da29475a-d5ab-4148-942b-167765b29dc4",
   "metadata": {},
   "outputs": [],
   "source": [
    "over_200_k = pd.read_excel('Downloads/свыше_200к.xlsx')\n",
    "\n",
    "over_200_k.loc[99] = \"Иркутск\"\n",
    "\n",
    "over_200_k['Город'] = over_200_k['Город'].str.lower()"
   ]
  },
  {
   "cell_type": "markdown",
   "id": "9eb8b388-0af3-4dbb-835b-83daa75b47cf",
   "metadata": {},
   "source": [
    "___Добавляем города, прописываем население городов___"
   ]
  },
  {
   "cell_type": "code",
   "execution_count": 42,
   "id": "c8d0e115-97fe-4953-ad95-78e612e09101",
   "metadata": {},
   "outputs": [],
   "source": [
    "data[\"over_200\"] = \"\""
   ]
  },
  {
   "cell_type": "code",
   "execution_count": 43,
   "id": "65690331-324e-4699-90f8-40983d447a69",
   "metadata": {},
   "outputs": [],
   "source": [
    "data['city'] =''"
   ]
  },
  {
   "cell_type": "code",
   "execution_count": 44,
   "id": "20a9a432-b8d3-4fd4-8f64-d326e5e370df",
   "metadata": {},
   "outputs": [],
   "source": [
    "for i in range(len(data)):\n",
    "    k = data.loc[i,'Город'].split(\", \")\n",
    "    data.loc[i,'city'] = k[0]\n",
    "    "
   ]
  },
  {
   "cell_type": "code",
   "execution_count": 45,
   "id": "b560faa4-432a-459c-9408-6b40825c2f9e",
   "metadata": {},
   "outputs": [],
   "source": [
    "data['city'] = data['city'].str.lower()"
   ]
  },
  {
   "cell_type": "code",
   "execution_count": 46,
   "id": "9a7b244c-6026-4e1b-8fa8-3b66e6f9cc8f",
   "metadata": {},
   "outputs": [],
   "source": [
    "over_200_unique = list(over_200_k['Город'].unique())"
   ]
  },
  {
   "cell_type": "code",
   "execution_count": 47,
   "id": "56d9173d-4af4-42be-9cf4-c029ea659d7f",
   "metadata": {},
   "outputs": [],
   "source": [
    "for i in range(len(data)):\n",
    "    if data.loc[i, \"city\"].strip() in over_200_unique:\n",
    "        data.loc[i, \"over_200\"] = \"yes\"\n",
    "    else:\n",
    "        data.loc[i, \"over_200\"] = \"no\""
   ]
  },
  {
   "cell_type": "markdown",
   "id": "14a1926e-c182-425f-b9a1-66772f34b2dd",
   "metadata": {},
   "source": [
    "___Присваеваем городам категорию в зависимости от населения___"
   ]
  },
  {
   "cell_type": "code",
   "execution_count": 48,
   "id": "a3b6d327-538f-49c0-9d5b-32b37a6191dd",
   "metadata": {},
   "outputs": [
    {
     "data": {
      "text/plain": [
       "'for i in range(len(data)):\\n    if data.loc[i, \\'over_200\\'] == \\'yes\\':\\n        data.loc[i, \\'category\\'] = \"200+\"\\n    elif  data.loc[i, \\'Районный центр\\'] == \\'Да\\':\\n        data.loc[i, \\'category\\'] = \"<50\"\\n    else:\\n        data.loc[i, \\'category\\'] = \"50-200\"\\n        '"
      ]
     },
     "execution_count": 48,
     "metadata": {},
     "output_type": "execute_result"
    }
   ],
   "source": [
    "#data['category'] = ''\n",
    "\n",
    "\"\"\"for i in range(len(data)):\n",
    "    if data.loc[i, 'over_200'] == 'yes':\n",
    "        data.loc[i, 'category'] = \"200+\"\n",
    "    elif  data.loc[i, 'Районный центр'] == 'Да':\n",
    "        data.loc[i, 'category'] = \"<50\"\n",
    "    else:\n",
    "        data.loc[i, 'category'] = \"50-200\"\n",
    "        \"\"\""
   ]
  },
  {
   "cell_type": "code",
   "execution_count": 49,
   "id": "e22f60d1-3575-4ef9-903e-79b7938733bd",
   "metadata": {},
   "outputs": [],
   "source": [
    "data.drop(columns = ['Наименование (Новое)','Районный центр','Город'], inplace=True)"
   ]
  },
  {
   "cell_type": "code",
   "execution_count": 50,
   "id": "8379a747-3796-465c-8387-99d98c8a71cf",
   "metadata": {},
   "outputs": [],
   "source": [
    "#data  = data[['city', 'Наименование', 'Код', 'category', 'График работы', 'Тип офиса']]\n",
    "data  = data[['city', 'Наименование', 'Код', 'График работы', 'Тип офиса', 'over_200']]"
   ]
  },
  {
   "cell_type": "code",
   "execution_count": 51,
   "id": "2a9793a7-9820-4778-b917-ca5065e18e36",
   "metadata": {},
   "outputs": [],
   "source": [
    "data.rename(columns = {'Код':'system_name', 'График работы': 'schedule', 'Наименование':'name', 'Тип офиса':'type'}, inplace=True)"
   ]
  },
  {
   "cell_type": "code",
   "execution_count": 52,
   "id": "37041a23-5780-4cc5-815c-0ee4f2c85553",
   "metadata": {},
   "outputs": [],
   "source": [
    "data['schedule_1']=data['schedule'].str.split(', ').str.get(0)\n",
    "data['schedule_2']=data['schedule'].str.split(', ').str.get(1)\n",
    "data['schedule_3']=data['schedule'].str.split(', ').str.get(2)"
   ]
  },
  {
   "cell_type": "code",
   "execution_count": 53,
   "id": "e360fc9a-f41f-4b04-9600-f4d6abaeb6be",
   "metadata": {},
   "outputs": [],
   "source": [
    "try:\n",
    "    data['schedule_3_day']=data['schedule_3'].str.split(' ').str.get(0)\n",
    "    data['schedule_3_time']=data['schedule_3'].str.split(' ').str.get(1)\n",
    "    data['schedule_1_day'] = data['schedule_1'].str.split(' ').str.get(0)\n",
    "    data['schedule_1_time'] = data['schedule_1'].str.split(' ').str.get(1)\n",
    "    data['schedule_2_day']=data['schedule_2'].str.split(' ').str.get(0)\n",
    "    data['schedule_2_time']=data['schedule_2'].str.split(' ').str.get(1)\n",
    "except:\n",
    "    data['schedule_1_day'] = data['schedule_1'].str.split(' ').str.get(0)\n",
    "    data['schedule_1_time'] = data['schedule_1'].str.split(' ').str.get(1)\n",
    "    data['schedule_2_day']=data['schedule_2'].str.split(' ').str.get(0)\n",
    "    data['schedule_2_time']=data['schedule_2'].str.split(' ').str.get(1)"
   ]
  },
  {
   "cell_type": "code",
   "execution_count": 54,
   "id": "f1cd8abe-ab07-4055-ae8b-2ba309954f00",
   "metadata": {},
   "outputs": [],
   "source": [
    "try:\n",
    "    data.drop(columns=['schedule_1', 'schedule_2','schedule_3'], inplace=True)\n",
    "except:\n",
    "    data.drop(columns=['schedule_1', 'schedule_2'], inplace=True)"
   ]
  },
  {
   "cell_type": "code",
   "execution_count": 55,
   "id": "e55753b7-c7f7-491c-90c6-c69f2c9c11f1",
   "metadata": {},
   "outputs": [
    {
     "name": "stdout",
     "output_type": "stream",
     "text": [
      "['Пн-Пт' 'Пн-Чт' 'Пн-Вс']\n",
      "['Сб-Вс' 'Пт' nan]\n"
     ]
    }
   ],
   "source": [
    "try:\n",
    "    print(data['schedule_3_day'].unique())\n",
    "    print(data['schedule_1_day'].unique())\n",
    "    print(data['schedule_2_day'].unique())\n",
    "except:\n",
    "    print(data['schedule_1_day'].unique())\n",
    "    print(data['schedule_2_day'].unique())"
   ]
  },
  {
   "cell_type": "code",
   "execution_count": null,
   "id": "8fbfa7b1-0a05-40a6-bb73-5be35ce0d70d",
   "metadata": {},
   "outputs": [],
   "source": []
  },
  {
   "cell_type": "markdown",
   "id": "8789d8be-a18c-47f8-b392-c65c4d9bda16",
   "metadata": {},
   "source": [
    "# Майские праздники РФ "
   ]
  },
  {
   "cell_type": "code",
   "execution_count": 67,
   "id": "9003a983-4465-4bec-80f6-bd407107fa56",
   "metadata": {},
   "outputs": [],
   "source": [
    "# создаем несколько копий \n",
    "\n",
    "may_01 = data.copy()\n",
    "may_01 = may_01.reset_index(drop=True)\n",
    "\n",
    "may_02 = data.copy()\n",
    "may_02 = may_02.reset_index(drop=True)\n",
    "\n",
    "may_03 = data.copy()\n",
    "may_03 = may_03.reset_index(drop=True)\n",
    "\n",
    "may_04 = data.copy()\n",
    "may_04 = may_04.reset_index(drop=True)\n",
    "\n",
    "may_08 = data.copy()\n",
    "may_08 = may_08.reset_index(drop=True)\n",
    "\n",
    "may_09 = data.copy()\n",
    "may_09 = may_09.reset_index(drop=True)\n",
    "\n",
    "may_10 = data.copy()\n",
    "may_10 = may_10.reset_index(drop=True)\n",
    "\n",
    "may_11 = data.copy()\n",
    "may_11 = may_11.reset_index(drop=True)\n",
    "\n",
    "uuid = pd.read_csv('/Users/CDEK/Downloads/20250417_075038.csv', sep = ';')\n",
    "uuid.rename(columns={'Системное наименование офиса':'system_name','office_uuid':'Офис uuid'}, inplace=True)"
   ]
  },
  {
   "cell_type": "code",
   "execution_count": 68,
   "id": "6106d19a-47ae-42d1-962b-ac2684497a6b",
   "metadata": {},
   "outputs": [],
   "source": [
    "may_01 = holyday(may_01, ['Пн-Вс', 'Сб-Вс', 'Вс', 'Вт-Вс'], uuid, '2025-05-01', '2025-05-01', over_200 = '18:00')\n",
    "\n",
    "may_02 = holyday(may_02, ['Пн-Вс', 'Пн-Сб', 'Вт-Сб', 'Сб-Вс', 'Сб', 'Вт-Вс'], uuid, '2025-05-02', '2025-05-02', over_200 = '18:00')\n",
    "\n",
    "may_03 = holyday(may_03, ['Пн-Вс', 'Пн-Сб', 'Вт-Сб', 'Сб-Вс', 'Сб', 'Вт-Вс'], uuid, '2025-05-03', '2025-05-03', over_200 = '18:00')\n",
    "\n",
    "may_04 = holyday(may_04, ['Пн-Вс', 'Сб-Вс', 'Вс', 'Вт-Вс'], uuid, '2025-05-04', '2025-05-04', over_200 = '18:00')\n",
    "\n",
    "may_08 = holyday(may_08, ['Пн-Вс', 'Пн-Сб', 'Вт-Сб', 'Сб-Вс', 'Сб', 'Вт-Вс'], uuid, '2025-05-08', '2025-05-08', over_200 = '18:00')\n",
    "\n",
    "may_09 = holyday(may_09, ['efwf', 'wefwe'], uuid, '2025-05-09', '2025-05-09', over_200 = '18:00')\n",
    "\n",
    "may_10 = holyday(may_10, ['Пн-Вс', 'Пн-Сб', 'Вт-Сб', 'Сб-Вс', 'Сб', 'Вт-Вс'], uuid, '2025-05-10', '2025-05-10', over_200 = '18:00')\n",
    "\n",
    "may_11 = holyday(may_11, ['Пн-Вс', 'Сб-Вс', 'Вс', 'Вт-Вс'], uuid, '2025-05-11', '2025-05-11', over_200 = '18:00')\n"
   ]
  },
  {
   "cell_type": "code",
   "execution_count": 89,
   "id": "d8cead90-ec63-4dab-a308-38358c471a8c",
   "metadata": {},
   "outputs": [],
   "source": [
    "with pd.ExcelWriter('may_russia.xlsx') as writer:  \n",
    "    april_29.to_excel(writer, sheet_name=april_29.loc[2, 'scheduled_date_begin'], index = False)\n",
    "    may_01.to_excel(writer, sheet_name=may_01.loc[2, 'scheduled_date_begin'], index = False)\n",
    "    may_02.to_excel(writer, sheet_name=may_02.loc[2, 'scheduled_date_begin'], index = False)\n",
    "    may_03.to_excel(writer, sheet_name=may_03.loc[2, 'scheduled_date_begin'], index = False)\n",
    "    may_04.to_excel(writer, sheet_name=may_04.loc[2, 'scheduled_date_begin'], index = False)\n",
    "    may_08.to_excel(writer, sheet_name=may_08.loc[2, 'scheduled_date_begin'], index = False)\n",
    "    may_09.to_excel(writer, sheet_name=may_09.loc[2, 'scheduled_date_begin'], index = False)\n",
    "    may_10.to_excel(writer, sheet_name=may_10.loc[2, 'scheduled_date_begin'], index = False)\n",
    "    may_11.to_excel(writer, sheet_name=may_11.loc[2, 'scheduled_date_begin'], index = False)"
   ]
  },
  {
   "cell_type": "markdown",
   "id": "912a643d-c067-41c6-9add-ba71aba36c9b",
   "metadata": {},
   "source": [
    "# Майские праздники РБ "
   ]
  },
  {
   "cell_type": "code",
   "execution_count": 310,
   "id": "eb1e9b84-a7f9-4872-8682-2038a67069d4",
   "metadata": {},
   "outputs": [],
   "source": [
    "april_29 = data.copy()\n",
    "april_29 = april_29.reset_index(drop=True)\n",
    "\n",
    "may_01 = data.copy()\n",
    "may_01 = may_01.reset_index(drop=True)\n",
    "\n",
    "may_08 = data.copy()\n",
    "may_08 = may_08.reset_index(drop=True)\n",
    "\n",
    "may_09 = data.copy()\n",
    "may_09 = may_09.reset_index(drop=True)"
   ]
  },
  {
   "cell_type": "code",
   "execution_count": 312,
   "id": "b853812b-4a26-4706-8991-397c6c3f7edd",
   "metadata": {},
   "outputs": [],
   "source": [
    "april_29 = holyday(april_29, ['efwf', 'wefwe'], uuid, '2025-04-29', '2025-04-29')\n",
    "\n",
    "may_01 = holyday(may_01, ['Пн-Вс', 'Сб-Вс', 'Вс'], uuid, '2025-05-01', '2025-05-01')\n",
    "\n",
    "may_08 = holyday(may_08, ['Пн-Вс','Пн-Сб', 'Сб-Вс', 'Вт-Сб', 'Сб'], uuid, '2025-05-08', '2025-05-08')\n",
    "\n",
    "may_09 = holyday(may_09, ['efwf', 'wefwe'], uuid, '2025-05-09', '2025-05-09')\n"
   ]
  },
  {
   "cell_type": "code",
   "execution_count": 313,
   "id": "2d97476e-1779-4c27-82dd-8dcf3a52069f",
   "metadata": {},
   "outputs": [],
   "source": [
    "with pd.ExcelWriter('may_bel.xlsx') as writer:  \n",
    "    april_29.to_excel(writer, sheet_name=april_29.loc[2, 'scheduled_date_begin'], index = False)\n",
    "    may_01.to_excel(writer, sheet_name=may_01.loc[2, 'scheduled_date_begin'], index = False)\n",
    "    may_08.to_excel(writer, sheet_name=may_08.loc[2, 'scheduled_date_begin'], index = False)\n",
    "    may_09.to_excel(writer, sheet_name=may_09.loc[2, 'scheduled_date_begin'], index = False)"
   ]
  },
  {
   "cell_type": "markdown",
   "id": "dc853a6f-ba62-49e6-8649-aa33210d7c81",
   "metadata": {},
   "source": [
    "# Майские праздники Казахстан"
   ]
  },
  {
   "cell_type": "code",
   "execution_count": 345,
   "id": "15a517d1-1897-4ac0-9bfd-683fe94be2b2",
   "metadata": {},
   "outputs": [],
   "source": [
    "may_01 = data.copy()\n",
    "may_01 = may_01.reset_index(drop=True)\n",
    "\n",
    "may_07 = data.copy()\n",
    "may_07 = may_07.reset_index(drop=True)\n",
    "\n",
    "may_09 = data.copy()\n",
    "may_09 = may_09.reset_index(drop=True)"
   ]
  },
  {
   "cell_type": "code",
   "execution_count": 349,
   "id": "c00b60d3-0675-43f4-891b-f8cd888fd0e9",
   "metadata": {},
   "outputs": [],
   "source": [
    "may_01 = holyday(may_01, ['Пн-Вс', 'Пн-Сб', 'Сб', 'Сб-Вс'], uuid, '2025-05-01', '2025-05-01')\n",
    "\n",
    "may_07 = holyday(may_07, ['Пн-Вс', 'Пн-Сб', 'Сб', 'Сб-Вс'], uuid, '2025-05-07', '2025-05-07')\n",
    "\n",
    "may_09 = holyday(may_09, ['efwf', 'wefwe'], uuid, '2025-05-09', '2025-05-09')"
   ]
  },
  {
   "cell_type": "code",
   "execution_count": 354,
   "id": "7195e79b-06d5-4693-96fa-7542be503cf1",
   "metadata": {},
   "outputs": [],
   "source": [
    "with pd.ExcelWriter('may_kz.xlsx') as writer:  \n",
    "    may_01.to_excel(writer, sheet_name=may_01.loc[2, 'scheduled_date_begin'], index = False)\n",
    "    may_07.to_excel(writer, sheet_name=may_07.loc[2, 'scheduled_date_begin'], index = False)\n",
    "    may_09.to_excel(writer, sheet_name=may_09.loc[2, 'scheduled_date_begin'], index = False)"
   ]
  },
  {
   "cell_type": "markdown",
   "id": "45816536-6b61-4410-a95c-7762c5958a2c",
   "metadata": {},
   "source": [
    "# Ставрополь/Севастополь"
   ]
  },
  {
   "cell_type": "code",
   "execution_count": 43,
   "id": "3746657f-3584-453b-a0f7-db661a8b4f6a",
   "metadata": {},
   "outputs": [],
   "source": [
    "april_29 = data.copy()\n",
    "\n",
    "uuid = pd.read_csv('/Users/CDEK/Downloads/20250417_075038.csv', sep = ';')\n",
    "uuid.rename(columns={'Системное наименование офиса':'system_name','office_uuid':'Офис uuid'}, inplace=True)"
   ]
  },
  {
   "cell_type": "code",
   "execution_count": 70,
   "id": "2be77240-bd3d-4ac0-836a-39591f105d59",
   "metadata": {},
   "outputs": [
    {
     "name": "stdout",
     "output_type": "stream",
     "text": [
      "['Пн-Пт' 'Пн-Вс' 'Пн-Сб']\n",
      "['Сб-Вс' nan 'Вс']\n"
     ]
    }
   ],
   "source": [
    "print(data['schedule_1_day'].unique())\n",
    "print(data['schedule_2_day'].unique())\n"
   ]
  },
  {
   "cell_type": "code",
   "execution_count": 44,
   "id": "31a1365d-5da4-48c5-80e4-96b5699c4f09",
   "metadata": {},
   "outputs": [],
   "source": [
    "april_29 = holyday(april_29, ['Пн-Вс', 'Пн-Сб','Сб-Вс'], uuid, '2025-04-29', '2025-04-29')\n",
    "\n",
    "april_29['worktime_begin'] = '14:00'"
   ]
  },
  {
   "cell_type": "code",
   "execution_count": 71,
   "id": "2f9c69be-fce1-4d6c-82c1-284bf9707451",
   "metadata": {},
   "outputs": [],
   "source": [
    "april_29_irk = data.copy()\n",
    "\n",
    "april_29_irk = holyday(april_29_irk, ['Пн-Вс', 'Пн-Сб','Сб-Вс'], uuid, '2025-04-29', '2025-04-29')"
   ]
  },
  {
   "cell_type": "code",
   "execution_count": 74,
   "id": "0363eb61-29a7-4ae8-b6ca-fd29f4c92bb7",
   "metadata": {},
   "outputs": [],
   "source": [
    "april_29_full = pd.concat([april_29, april_29_irk], ignore_index=False)"
   ]
  },
  {
   "cell_type": "code",
   "execution_count": 75,
   "id": "b34bb6e7-0a01-454d-a304-bcdbc8ad9650",
   "metadata": {},
   "outputs": [
    {
     "data": {
      "text/html": [
       "<div>\n",
       "<style scoped>\n",
       "    .dataframe tbody tr th:only-of-type {\n",
       "        vertical-align: middle;\n",
       "    }\n",
       "\n",
       "    .dataframe tbody tr th {\n",
       "        vertical-align: top;\n",
       "    }\n",
       "\n",
       "    .dataframe thead th {\n",
       "        text-align: right;\n",
       "    }\n",
       "</style>\n",
       "<table border=\"1\" class=\"dataframe\">\n",
       "  <thead>\n",
       "    <tr style=\"text-align: right;\">\n",
       "      <th></th>\n",
       "      <th>system_name</th>\n",
       "      <th>Офис uuid</th>\n",
       "      <th>scheduled_date_begin</th>\n",
       "      <th>scheduled_date_end</th>\n",
       "      <th>is_holiday</th>\n",
       "      <th>worktime_begin</th>\n",
       "      <th>worktime_end</th>\n",
       "      <th>comment</th>\n",
       "    </tr>\n",
       "  </thead>\n",
       "  <tbody>\n",
       "    <tr>\n",
       "      <th>0</th>\n",
       "      <td>NVM1</td>\n",
       "      <td>e7e9ce85-3c6f-4a1f-a9a0-2974d8e94de7</td>\n",
       "      <td>2025-04-29</td>\n",
       "      <td>2025-04-29</td>\n",
       "      <td></td>\n",
       "      <td>14:00</td>\n",
       "      <td>19:00</td>\n",
       "      <td>Праздничный день</td>\n",
       "    </tr>\n",
       "    <tr>\n",
       "      <th>1</th>\n",
       "      <td>SVT6</td>\n",
       "      <td>37a76b34-634a-4915-972e-f271257a27ad</td>\n",
       "      <td>2025-04-29</td>\n",
       "      <td>2025-04-29</td>\n",
       "      <td></td>\n",
       "      <td>14:00</td>\n",
       "      <td>20:00</td>\n",
       "      <td>Праздничный день</td>\n",
       "    </tr>\n",
       "    <tr>\n",
       "      <th>2</th>\n",
       "      <td>PTG3</td>\n",
       "      <td>9b874dc0-4874-446b-bcde-7ad673c830e0</td>\n",
       "      <td>2025-04-29</td>\n",
       "      <td>2025-04-29</td>\n",
       "      <td></td>\n",
       "      <td>14:00</td>\n",
       "      <td>20:00</td>\n",
       "      <td>Праздничный день</td>\n",
       "    </tr>\n",
       "    <tr>\n",
       "      <th>3</th>\n",
       "      <td>ZKN1</td>\n",
       "      <td>d7290be6-12b8-4b96-9538-2a96e0e397ac</td>\n",
       "      <td>2025-04-29</td>\n",
       "      <td>2025-04-29</td>\n",
       "      <td></td>\n",
       "      <td>14:00</td>\n",
       "      <td>19:00</td>\n",
       "      <td>Праздничный день</td>\n",
       "    </tr>\n",
       "    <tr>\n",
       "      <th>4</th>\n",
       "      <td>STV7</td>\n",
       "      <td>749e2f07-e4b0-4ff6-935e-6d6565549eef</td>\n",
       "      <td>2025-04-29</td>\n",
       "      <td>2025-04-29</td>\n",
       "      <td></td>\n",
       "      <td>14:00</td>\n",
       "      <td>20:00</td>\n",
       "      <td>Праздничный день</td>\n",
       "    </tr>\n",
       "    <tr>\n",
       "      <th>...</th>\n",
       "      <td>...</td>\n",
       "      <td>...</td>\n",
       "      <td>...</td>\n",
       "      <td>...</td>\n",
       "      <td>...</td>\n",
       "      <td>...</td>\n",
       "      <td>...</td>\n",
       "      <td>...</td>\n",
       "    </tr>\n",
       "    <tr>\n",
       "      <th>37</th>\n",
       "      <td>IRK30</td>\n",
       "      <td>f0f585c1-f288-4f17-82c1-2d4462cc8822</td>\n",
       "      <td>2025-04-29</td>\n",
       "      <td>2025-04-29</td>\n",
       "      <td></td>\n",
       "      <td>10:00</td>\n",
       "      <td>18:00</td>\n",
       "      <td>Праздничный день</td>\n",
       "    </tr>\n",
       "    <tr>\n",
       "      <th>38</th>\n",
       "      <td>IRK6</td>\n",
       "      <td>f3e02d5c-43aa-4d32-b3d3-3d827a1015cd</td>\n",
       "      <td>2025-04-29</td>\n",
       "      <td>2025-04-29</td>\n",
       "      <td></td>\n",
       "      <td>10:00</td>\n",
       "      <td>18:00</td>\n",
       "      <td>Праздничный день</td>\n",
       "    </tr>\n",
       "    <tr>\n",
       "      <th>39</th>\n",
       "      <td>IRK88</td>\n",
       "      <td>f873ab28-154e-4eee-9234-0d93ed1aa36e</td>\n",
       "      <td>2025-04-29</td>\n",
       "      <td>2025-04-29</td>\n",
       "      <td></td>\n",
       "      <td>10:00</td>\n",
       "      <td>18:00</td>\n",
       "      <td>Праздничный день</td>\n",
       "    </tr>\n",
       "    <tr>\n",
       "      <th>40</th>\n",
       "      <td>IRK98</td>\n",
       "      <td>fe8f8717-5b18-4fa2-a965-fc59e8a15d68</td>\n",
       "      <td>2025-04-29</td>\n",
       "      <td>2025-04-29</td>\n",
       "      <td></td>\n",
       "      <td>10:00</td>\n",
       "      <td>18:00</td>\n",
       "      <td>Праздничный день</td>\n",
       "    </tr>\n",
       "    <tr>\n",
       "      <th>41</th>\n",
       "      <td>IRK68</td>\n",
       "      <td>ff7f0a7c-f709-4395-9295-e998e72232f0</td>\n",
       "      <td>2025-04-29</td>\n",
       "      <td>2025-04-29</td>\n",
       "      <td></td>\n",
       "      <td>10:00</td>\n",
       "      <td>19:00</td>\n",
       "      <td>Праздничный день</td>\n",
       "    </tr>\n",
       "  </tbody>\n",
       "</table>\n",
       "<p>165 rows × 8 columns</p>\n",
       "</div>"
      ],
      "text/plain": [
       "   system_name                             Офис uuid scheduled_date_begin  \\\n",
       "0         NVM1  e7e9ce85-3c6f-4a1f-a9a0-2974d8e94de7           2025-04-29   \n",
       "1         SVT6  37a76b34-634a-4915-972e-f271257a27ad           2025-04-29   \n",
       "2         PTG3  9b874dc0-4874-446b-bcde-7ad673c830e0           2025-04-29   \n",
       "3         ZKN1  d7290be6-12b8-4b96-9538-2a96e0e397ac           2025-04-29   \n",
       "4         STV7  749e2f07-e4b0-4ff6-935e-6d6565549eef           2025-04-29   \n",
       "..         ...                                   ...                  ...   \n",
       "37       IRK30  f0f585c1-f288-4f17-82c1-2d4462cc8822           2025-04-29   \n",
       "38        IRK6  f3e02d5c-43aa-4d32-b3d3-3d827a1015cd           2025-04-29   \n",
       "39       IRK88  f873ab28-154e-4eee-9234-0d93ed1aa36e           2025-04-29   \n",
       "40       IRK98  fe8f8717-5b18-4fa2-a965-fc59e8a15d68           2025-04-29   \n",
       "41       IRK68  ff7f0a7c-f709-4395-9295-e998e72232f0           2025-04-29   \n",
       "\n",
       "   scheduled_date_end is_holiday worktime_begin worktime_end           comment  \n",
       "0          2025-04-29                     14:00        19:00  Праздничный день  \n",
       "1          2025-04-29                     14:00        20:00  Праздничный день  \n",
       "2          2025-04-29                     14:00        20:00  Праздничный день  \n",
       "3          2025-04-29                     14:00        19:00  Праздничный день  \n",
       "4          2025-04-29                     14:00        20:00  Праздничный день  \n",
       "..                ...        ...            ...          ...               ...  \n",
       "37         2025-04-29                     10:00        18:00  Праздничный день  \n",
       "38         2025-04-29                     10:00        18:00  Праздничный день  \n",
       "39         2025-04-29                     10:00        18:00  Праздничный день  \n",
       "40         2025-04-29                     10:00        18:00  Праздничный день  \n",
       "41         2025-04-29                     10:00        19:00  Праздничный день  \n",
       "\n",
       "[165 rows x 8 columns]"
      ]
     },
     "execution_count": 75,
     "metadata": {},
     "output_type": "execute_result"
    }
   ],
   "source": [
    "april_29_full"
   ]
  },
  {
   "cell_type": "code",
   "execution_count": 81,
   "id": "4a563fb7-a295-49b5-ac2c-ffc1e16d8e3b",
   "metadata": {},
   "outputs": [],
   "source": [
    "with pd.ExcelWriter('may_kz (1).xlsx') as writer:  \n",
    "    april_29_full.to_excel(writer, sheet_name= '2025-04-29', index = False)"
   ]
  },
  {
   "cell_type": "code",
   "execution_count": null,
   "id": "5f467976-f0a1-4634-9959-2e581577840e",
   "metadata": {},
   "outputs": [],
   "source": []
  }
 ],
 "metadata": {
  "kernelspec": {
   "display_name": "Python 3 (ipykernel)",
   "language": "python",
   "name": "python3"
  },
  "language_info": {
   "codemirror_mode": {
    "name": "ipython",
    "version": 3
   },
   "file_extension": ".py",
   "mimetype": "text/x-python",
   "name": "python",
   "nbconvert_exporter": "python",
   "pygments_lexer": "ipython3",
   "version": "3.12.5"
  }
 },
 "nbformat": 4,
 "nbformat_minor": 5
}
